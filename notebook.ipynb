{
 "metadata": {
  "language_info": {
   "codemirror_mode": {
    "name": "ipython",
    "version": 3
   },
   "file_extension": ".py",
   "mimetype": "text/x-python",
   "name": "python",
   "nbconvert_exporter": "python",
   "pygments_lexer": "ipython3",
   "version": "3.7.4-final"
  },
  "orig_nbformat": 2,
  "kernelspec": {
   "name": "python3",
   "display_name": "Python 3"
  }
 },
 "nbformat": 4,
 "nbformat_minor": 2,
 "cells": [
  {
   "cell_type": "code",
   "execution_count": 5,
   "metadata": {},
   "outputs": [],
   "source": [
    "# from sklearn.linear_model import LinearRegression\n",
    "from sklearn.neighbors import KNeighborsClassifier\n",
    "# from sklearn.naive_bayes import \n",
    "import pandas as pd\n",
    "import numpy as np"
   ]
  },
  {
   "cell_type": "code",
   "execution_count": 6,
   "metadata": {},
   "outputs": [],
   "source": [
    "train = pd.read_csv('data/train.csv')\n",
    "test = pd.read_csv('data/test.csv')\n"
   ]
  },
  {
   "cell_type": "code",
   "execution_count": 7,
   "metadata": {},
   "outputs": [],
   "source": [
    "def prepare_data(X):\n",
    "    X['is_adult'] = X['Age']\n",
    "    for i,val in enumerate(X['Sex']):\n",
    "        if X['Sex'][i] == 'male':\n",
    "            X['Sex'][i] = 1\n",
    "        else:\n",
    "            X['Sex'][i] = 0\n",
    "    for i,val in enumerate(X['Age']):\n",
    "        if X['Age'][i] < 18:\n",
    "            X['is_adult'][i] = 1\n",
    "        else:\n",
    "            X['is_adult'][i] = 0\n",
    "    median_age = X['Age'].median()\n",
    "    X['Age'] = X['Age'].fillna(median_age)\n",
    "    median_fare = X['Fare'].median()\n",
    "    X['Fare'] = X['Fare'].fillna(median_age)\n",
    "    return X"
   ]
  },
  {
   "cell_type": "code",
   "execution_count": 8,
   "metadata": {},
   "outputs": [],
   "source": [
    "y = train['Survived']\n",
    "X = train.drop(['Survived', 'Name', 'Ticket', 'Cabin', 'Embarked'], 1)\n",
    "X = prepare_data(X)\n",
    "# lr = LinearRegression()\n",
    "model = KNeighborsClassifier(2, n_jobs=12)"
   ]
  },
  {
   "cell_type": "code",
   "execution_count": 10,
   "metadata": {},
   "outputs": [
    {
     "output_type": "execute_result",
     "data": {
      "text/plain": [
       "     PassengerId  Pclass Sex   Age  SibSp  Parch     Fare  is_adult\n",
       "0              1       3   1  22.0      1      0   7.2500       0.0\n",
       "1              2       1   0  38.0      1      0  71.2833       0.0\n",
       "2              3       3   0  26.0      0      0   7.9250       0.0\n",
       "3              4       1   0  35.0      1      0  53.1000       0.0\n",
       "4              5       3   1  35.0      0      0   8.0500       0.0\n",
       "..           ...     ...  ..   ...    ...    ...      ...       ...\n",
       "886          887       2   1  27.0      0      0  13.0000       0.0\n",
       "887          888       1   0  19.0      0      0  30.0000       0.0\n",
       "888          889       3   0  28.0      1      2  23.4500       0.0\n",
       "889          890       1   1  26.0      0      0  30.0000       0.0\n",
       "890          891       3   1  32.0      0      0   7.7500       0.0\n",
       "\n",
       "[891 rows x 8 columns]"
      ],
      "text/html": "<div>\n<style scoped>\n    .dataframe tbody tr th:only-of-type {\n        vertical-align: middle;\n    }\n\n    .dataframe tbody tr th {\n        vertical-align: top;\n    }\n\n    .dataframe thead th {\n        text-align: right;\n    }\n</style>\n<table border=\"1\" class=\"dataframe\">\n  <thead>\n    <tr style=\"text-align: right;\">\n      <th></th>\n      <th>PassengerId</th>\n      <th>Pclass</th>\n      <th>Sex</th>\n      <th>Age</th>\n      <th>SibSp</th>\n      <th>Parch</th>\n      <th>Fare</th>\n      <th>is_adult</th>\n    </tr>\n  </thead>\n  <tbody>\n    <tr>\n      <td>0</td>\n      <td>1</td>\n      <td>3</td>\n      <td>1</td>\n      <td>22.0</td>\n      <td>1</td>\n      <td>0</td>\n      <td>7.2500</td>\n      <td>0.0</td>\n    </tr>\n    <tr>\n      <td>1</td>\n      <td>2</td>\n      <td>1</td>\n      <td>0</td>\n      <td>38.0</td>\n      <td>1</td>\n      <td>0</td>\n      <td>71.2833</td>\n      <td>0.0</td>\n    </tr>\n    <tr>\n      <td>2</td>\n      <td>3</td>\n      <td>3</td>\n      <td>0</td>\n      <td>26.0</td>\n      <td>0</td>\n      <td>0</td>\n      <td>7.9250</td>\n      <td>0.0</td>\n    </tr>\n    <tr>\n      <td>3</td>\n      <td>4</td>\n      <td>1</td>\n      <td>0</td>\n      <td>35.0</td>\n      <td>1</td>\n      <td>0</td>\n      <td>53.1000</td>\n      <td>0.0</td>\n    </tr>\n    <tr>\n      <td>4</td>\n      <td>5</td>\n      <td>3</td>\n      <td>1</td>\n      <td>35.0</td>\n      <td>0</td>\n      <td>0</td>\n      <td>8.0500</td>\n      <td>0.0</td>\n    </tr>\n    <tr>\n      <td>...</td>\n      <td>...</td>\n      <td>...</td>\n      <td>...</td>\n      <td>...</td>\n      <td>...</td>\n      <td>...</td>\n      <td>...</td>\n      <td>...</td>\n    </tr>\n    <tr>\n      <td>886</td>\n      <td>887</td>\n      <td>2</td>\n      <td>1</td>\n      <td>27.0</td>\n      <td>0</td>\n      <td>0</td>\n      <td>13.0000</td>\n      <td>0.0</td>\n    </tr>\n    <tr>\n      <td>887</td>\n      <td>888</td>\n      <td>1</td>\n      <td>0</td>\n      <td>19.0</td>\n      <td>0</td>\n      <td>0</td>\n      <td>30.0000</td>\n      <td>0.0</td>\n    </tr>\n    <tr>\n      <td>888</td>\n      <td>889</td>\n      <td>3</td>\n      <td>0</td>\n      <td>28.0</td>\n      <td>1</td>\n      <td>2</td>\n      <td>23.4500</td>\n      <td>0.0</td>\n    </tr>\n    <tr>\n      <td>889</td>\n      <td>890</td>\n      <td>1</td>\n      <td>1</td>\n      <td>26.0</td>\n      <td>0</td>\n      <td>0</td>\n      <td>30.0000</td>\n      <td>0.0</td>\n    </tr>\n    <tr>\n      <td>890</td>\n      <td>891</td>\n      <td>3</td>\n      <td>1</td>\n      <td>32.0</td>\n      <td>0</td>\n      <td>0</td>\n      <td>7.7500</td>\n      <td>0.0</td>\n    </tr>\n  </tbody>\n</table>\n<p>891 rows × 8 columns</p>\n</div>"
     },
     "metadata": {},
     "execution_count": 10
    }
   ],
   "source": [
    "X"
   ]
  },
  {
   "cell_type": "code",
   "execution_count": 11,
   "metadata": {},
   "outputs": [
    {
     "output_type": "execute_result",
     "data": {
      "text/plain": [
       "     PassengerId  Pclass Sex   Age  SibSp  Parch      Fare  is_adult\n",
       "0            892       3   1  34.5      0      0    7.8292       0.0\n",
       "1            893       3   0  47.0      1      0    7.0000       0.0\n",
       "2            894       2   1  62.0      0      0    9.6875       0.0\n",
       "3            895       3   1  27.0      0      0    8.6625       0.0\n",
       "4            896       3   0  22.0      1      1   12.2875       0.0\n",
       "..           ...     ...  ..   ...    ...    ...       ...       ...\n",
       "413         1305       3   1  27.0      0      0    8.0500       0.0\n",
       "414         1306       1   0  39.0      0      0  108.9000       0.0\n",
       "415         1307       3   1  38.5      0      0    7.2500       0.0\n",
       "416         1308       3   1  27.0      0      0    8.0500       0.0\n",
       "417         1309       3   1  27.0      1      1   22.3583       0.0\n",
       "\n",
       "[418 rows x 8 columns]"
      ],
      "text/html": "<div>\n<style scoped>\n    .dataframe tbody tr th:only-of-type {\n        vertical-align: middle;\n    }\n\n    .dataframe tbody tr th {\n        vertical-align: top;\n    }\n\n    .dataframe thead th {\n        text-align: right;\n    }\n</style>\n<table border=\"1\" class=\"dataframe\">\n  <thead>\n    <tr style=\"text-align: right;\">\n      <th></th>\n      <th>PassengerId</th>\n      <th>Pclass</th>\n      <th>Sex</th>\n      <th>Age</th>\n      <th>SibSp</th>\n      <th>Parch</th>\n      <th>Fare</th>\n      <th>is_adult</th>\n    </tr>\n  </thead>\n  <tbody>\n    <tr>\n      <td>0</td>\n      <td>892</td>\n      <td>3</td>\n      <td>1</td>\n      <td>34.5</td>\n      <td>0</td>\n      <td>0</td>\n      <td>7.8292</td>\n      <td>0.0</td>\n    </tr>\n    <tr>\n      <td>1</td>\n      <td>893</td>\n      <td>3</td>\n      <td>0</td>\n      <td>47.0</td>\n      <td>1</td>\n      <td>0</td>\n      <td>7.0000</td>\n      <td>0.0</td>\n    </tr>\n    <tr>\n      <td>2</td>\n      <td>894</td>\n      <td>2</td>\n      <td>1</td>\n      <td>62.0</td>\n      <td>0</td>\n      <td>0</td>\n      <td>9.6875</td>\n      <td>0.0</td>\n    </tr>\n    <tr>\n      <td>3</td>\n      <td>895</td>\n      <td>3</td>\n      <td>1</td>\n      <td>27.0</td>\n      <td>0</td>\n      <td>0</td>\n      <td>8.6625</td>\n      <td>0.0</td>\n    </tr>\n    <tr>\n      <td>4</td>\n      <td>896</td>\n      <td>3</td>\n      <td>0</td>\n      <td>22.0</td>\n      <td>1</td>\n      <td>1</td>\n      <td>12.2875</td>\n      <td>0.0</td>\n    </tr>\n    <tr>\n      <td>...</td>\n      <td>...</td>\n      <td>...</td>\n      <td>...</td>\n      <td>...</td>\n      <td>...</td>\n      <td>...</td>\n      <td>...</td>\n      <td>...</td>\n    </tr>\n    <tr>\n      <td>413</td>\n      <td>1305</td>\n      <td>3</td>\n      <td>1</td>\n      <td>27.0</td>\n      <td>0</td>\n      <td>0</td>\n      <td>8.0500</td>\n      <td>0.0</td>\n    </tr>\n    <tr>\n      <td>414</td>\n      <td>1306</td>\n      <td>1</td>\n      <td>0</td>\n      <td>39.0</td>\n      <td>0</td>\n      <td>0</td>\n      <td>108.9000</td>\n      <td>0.0</td>\n    </tr>\n    <tr>\n      <td>415</td>\n      <td>1307</td>\n      <td>3</td>\n      <td>1</td>\n      <td>38.5</td>\n      <td>0</td>\n      <td>0</td>\n      <td>7.2500</td>\n      <td>0.0</td>\n    </tr>\n    <tr>\n      <td>416</td>\n      <td>1308</td>\n      <td>3</td>\n      <td>1</td>\n      <td>27.0</td>\n      <td>0</td>\n      <td>0</td>\n      <td>8.0500</td>\n      <td>0.0</td>\n    </tr>\n    <tr>\n      <td>417</td>\n      <td>1309</td>\n      <td>3</td>\n      <td>1</td>\n      <td>27.0</td>\n      <td>1</td>\n      <td>1</td>\n      <td>22.3583</td>\n      <td>0.0</td>\n    </tr>\n  </tbody>\n</table>\n<p>418 rows × 8 columns</p>\n</div>"
     },
     "metadata": {},
     "execution_count": 11
    }
   ],
   "source": [
    "test = test.drop(['Name', 'Ticket', 'Cabin', 'Embarked'], 1)\n",
    "test = prepare_data(test)\n",
    "test"
   ]
  },
  {
   "cell_type": "code",
   "execution_count": 12,
   "metadata": {},
   "outputs": [],
   "source": [
    "model.fit(X,y)\n",
    "prediction = pd.DataFrame(abs(model.predict(test).round()))\n",
    "prediction['PassengerId'] = test['PassengerId']"
   ]
  },
  {
   "cell_type": "code",
   "execution_count": 13,
   "metadata": {},
   "outputs": [],
   "source": [
    "import datetime\n",
    "datetime.datetime.now()\n",
    "timestamp = f'predictions/prediction-{str(datetime.datetime.now())}.csv'\n",
    "prediction.to_csv(timestamp, encoding='utf-8', index=False)"
   ]
  }
 ]
}